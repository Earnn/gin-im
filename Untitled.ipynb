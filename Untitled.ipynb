{
 "cells": [
  {
   "cell_type": "code",
   "execution_count": 1,
   "metadata": {
    "collapsed": true
   },
   "outputs": [],
   "source": [
    "import omise"
   ]
  },
  {
   "cell_type": "code",
   "execution_count": 7,
   "metadata": {},
   "outputs": [],
   "source": [
    "omise.api_secret = 'skey_test_5ag0cf697itlqx23kfc'\n",
    "charge = omise.Charge.create(\n",
    "  amount=6100,\n",
    "  currency='thb',\n",
    "  card=\"tokn_test_5agl1nu7cm0wojipzgo\",\n",
    ")"
   ]
  },
  {
   "cell_type": "code",
   "execution_count": 12,
   "metadata": {},
   "outputs": [],
   "source": [
    "# import libscrc\n",
    "import qrcode\n",
    "# from pypromptpay import qr_code\n",
    "# qr_code(account,one_time=True,path_qr_code=\"\",country=\"TH\",money=\"\",currency=\"THB\")\n"
   ]
  },
  {
   "cell_type": "code",
   "execution_count": 13,
   "metadata": {},
   "outputs": [
    {
     "ename": "ImportError",
     "evalue": "No module named 'libscrc'",
     "output_type": "error",
     "traceback": [
      "\u001b[1;31m---------------------------------------------------------------------------\u001b[0m",
      "\u001b[1;31mImportError\u001b[0m                               Traceback (most recent call last)",
      "\u001b[1;32m<ipython-input-13-8090acfa8a5d>\u001b[0m in \u001b[0;36m<module>\u001b[1;34m()\u001b[0m\n\u001b[1;32m----> 1\u001b[1;33m \u001b[1;32mimport\u001b[0m \u001b[0mlibscrc\u001b[0m\u001b[1;33m\u001b[0m\u001b[0m\n\u001b[0m\u001b[0;32m      2\u001b[0m \u001b[1;32mimport\u001b[0m \u001b[0mqrcode\u001b[0m\u001b[1;33m\u001b[0m\u001b[0m\n\u001b[0;32m      3\u001b[0m \u001b[1;32mdef\u001b[0m \u001b[0mqr_code\u001b[0m\u001b[1;33m(\u001b[0m\u001b[0maccount\u001b[0m\u001b[1;33m,\u001b[0m\u001b[0mone_time\u001b[0m\u001b[1;33m=\u001b[0m\u001b[1;32mTrue\u001b[0m\u001b[1;33m,\u001b[0m\u001b[0mpath_qr_code\u001b[0m\u001b[1;33m=\u001b[0m\u001b[1;34m\"\"\u001b[0m\u001b[1;33m,\u001b[0m\u001b[0mcountry\u001b[0m\u001b[1;33m=\u001b[0m\u001b[1;34m\"TH\"\u001b[0m\u001b[1;33m,\u001b[0m\u001b[0mmoney\u001b[0m\u001b[1;33m=\u001b[0m\u001b[1;34m\"\"\u001b[0m\u001b[1;33m,\u001b[0m\u001b[0mcurrency\u001b[0m\u001b[1;33m=\u001b[0m\u001b[1;34m\"THB\"\u001b[0m\u001b[1;33m)\u001b[0m\u001b[1;33m:\u001b[0m\u001b[1;33m\u001b[0m\u001b[0m\n\u001b[0;32m      4\u001b[0m     \"\"\"\n\u001b[0;32m      5\u001b[0m     \u001b[0mqr_code\u001b[0m\u001b[1;33m(\u001b[0m\u001b[0maccount\u001b[0m\u001b[1;33m,\u001b[0m\u001b[0mone_time\u001b[0m\u001b[1;33m=\u001b[0m\u001b[1;32mTrue\u001b[0m\u001b[1;33m,\u001b[0m\u001b[0mpath_qr_code\u001b[0m\u001b[1;33m=\u001b[0m\u001b[1;34m\"\"\u001b[0m\u001b[1;33m,\u001b[0m\u001b[0mcountry\u001b[0m\u001b[1;33m=\u001b[0m\u001b[1;34m\"TH\"\u001b[0m\u001b[1;33m,\u001b[0m\u001b[0mmoney\u001b[0m\u001b[1;33m=\u001b[0m\u001b[1;34m\"\"\u001b[0m\u001b[1;33m,\u001b[0m\u001b[0mcurrency\u001b[0m\u001b[1;33m=\u001b[0m\u001b[1;34m\"THB\"\u001b[0m\u001b[1;33m)\u001b[0m\u001b[1;33m\u001b[0m\u001b[0m\n",
      "\u001b[1;31mImportError\u001b[0m: No module named 'libscrc'"
     ]
    }
   ],
   "source": [
    "import libscrc\n",
    "import qrcode\n",
    "def qr_code(account,one_time=True,path_qr_code=\"\",country=\"TH\",money=\"\",currency=\"THB\"):\n",
    "    \"\"\"\n",
    "    qr_code(account,one_time=True,path_qr_code=\"\",country=\"TH\",money=\"\",currency=\"THB\")\n",
    "    account is phone number or  identification number.\n",
    "    one_time : if you use once than it's True.\n",
    "    path_qr_code : path save qr code.\n",
    "    country : TH\n",
    "    money : money (if have)\n",
    "    currency : THB\n",
    "    \"\"\"\n",
    "    Version = \"0002\"+\"01\" # เวชั่นของ  PromptPay\n",
    "    if one_time==True: # one_time คือ ต้องการให้โค้ดนี้ครั้งเดียวหรือไม่\n",
    "        one_time=\"010212\" # 12 ใช้ครั้งเดียว\n",
    "    else:\n",
    "        one_time=\"010211\" # 11 ใช้ได้้หลายครั้ง\n",
    "    merchant_account_information=\"2937\" # ข้อมูลผู้ขาย\n",
    "    merchant_account_information+=\"0016\"+\"A000000677010111\" # หมายเลขแอปพลิเคชั่น PromptPay\n",
    "    if len(account)!=13: # ใช้บัญชีใช้เป็นเบอร์มือถือหรือไม่ ถ้าใช่ จำนวนจะไม่เท่ากับ 13\n",
    "        account=list(account)\n",
    "        merchant_account_information+=\"011300\" # 01 หมายเลขโทรศัพท์ ความยาว 13 ขึ้นต้น 00\n",
    "        if country==\"TH\":\n",
    "            merchant_account_information+=\"66\" # รหัสประเทศ 66 คือประเทศไทย\n",
    "        del account[0] # ตัดเลข 0 หน้าเบอร์ออก\n",
    "        merchant_account_information+=''.join(account)\n",
    "    else:\n",
    "        merchant_account_information+=\"02\"+account.replace('-','') # กรณีที่ไม่รับมือถือ แสดงว่าเป็นเลขบัตรประชาชน\n",
    "    country=\"5802\"+country # ประเทศ\n",
    "    if currency==\"THB\":\n",
    "        currency=\"5303\"+\"764\" # \"764\"  คือเงินบาทไทย ตาม https://en.wikipedia.org/wiki/ISO_4217\n",
    "    if money!=\"\": # กรณีกำหนดเงิน\n",
    "        check_money=money.split('.') # แยกจาก .\n",
    "        if len(check_money)==1 or len(check_money[1])==1: # กรณีที่ไม่มี . หรือ มีทศนิยมแค่หลักเดียว\n",
    "            money=\"54\"+\"0\"+str(len(str(float(money)))+1)+str(float(money))+\"0\"\n",
    "        else:\n",
    "            money=\"54\"+\"0\"+str(len(str(float(money))))+str(float(money)) # กรณีที่มีทศนิยมครบ\n",
    "    check_sum=Version+one_time+merchant_account_information+country+currency+money+\"6304\" # เช็คค่า check sum\n",
    "    check_sum1=hex(libscrc.ccitt(check_sum.encode(\"ascii\"),0xffff)).replace('0x','')\n",
    "    if len(check_sum1)<4: # # แก้ไขข้อมูล check_sum ไม่ครบ 4 หลัก\n",
    "        check_sum1=(\"0\"*(4-len(check_sum1)))+check_sum1\n",
    "    check_sum+=check_sum1\n",
    "    if path_qr_code!=\"\":\n",
    "        img = qrcode.make(check_sum.upper())\n",
    "        imgload = open(path_qr_code,'wb')\n",
    "        img.save(imgload, 'PNG')\n",
    "        imgload.close()\n",
    "        return True\n",
    "    else:\n",
    "        return check_sum.upper() # upper ใช้คืนค่าสตริงเป็นตัวพิมพ์ใหญ่\n"
   ]
  },
  {
   "cell_type": "code",
   "execution_count": 18,
   "metadata": {},
   "outputs": [],
   "source": [
    "import qrcode\n",
    "img = qrcode.make('20 บาท')\n",
    "imgload = open('img-data.png','wb') #สร้างไฟล์ไบต์ใหม่ขึ้นมา กำหนดสิทธิ์เขียนไฟล์ได้\n",
    "img.save(imgload, 'PNG') #บันทึกค่า QR Code เข้าไปยังไฟล์\n",
    "imgload.close() #ปิดไฟล์\n"
   ]
  },
  {
   "cell_type": "code",
   "execution_count": null,
   "metadata": {
    "collapsed": true
   },
   "outputs": [],
   "source": []
  }
 ],
 "metadata": {
  "kernelspec": {
   "display_name": "Python 3",
   "language": "python",
   "name": "python3"
  },
  "language_info": {
   "codemirror_mode": {
    "name": "ipython",
    "version": 3
   },
   "file_extension": ".py",
   "mimetype": "text/x-python",
   "name": "python",
   "nbconvert_exporter": "python",
   "pygments_lexer": "ipython3",
   "version": "3.5.4"
  }
 },
 "nbformat": 4,
 "nbformat_minor": 2
}
